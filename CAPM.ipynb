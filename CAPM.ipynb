{
 "cells": [
  {
   "cell_type": "markdown",
   "metadata": {},
   "source": [
    "# TYLER ENTER - tje6gt - HOMEWORK 5\n",
    "\n",
    "## Capital Asset Pricing Model (CAPM)\n",
    "### Strength Training with Functions, Numpy\n",
    "\n",
    "\n",
    "### University of Virginia\n",
    "### DS 5100: Programming for Data Science\n",
    "### Last Updated: March 18, 2021\n",
    "---"
   ]
  },
  {
   "cell_type": "markdown",
   "metadata": {},
   "source": [
    "### Objectives: \n",
    "- Use numpy and functions to compute a stock's CAPM beta\n",
    "- Perform sensitivity analysis to understand how the data points impact the beta estimate\n",
    "\n",
    "### Background\n",
    "\n",
    "\n",
    "In finance, CAPM is a single-factor regression model used for explaining and predicting excess stock returns. There are better, more accurate models, but it has its uses. For example, the *market beta* is a useful output.\n",
    "\n",
    "\n",
    "Here is the formula for calculating the expected excess return:\n",
    "\n",
    "\\begin{aligned} &E[R_i] - R_f  = \\beta_i ( E[R_m] - R_f ) \\\\ \\\\ &\\textbf{where:} \\\\ &ER_i = \\text{expected return of stock i} \\\\ &R_f = \\text{risk-free rate} \\\\ &\\beta_i = \\text{beta of the stock} \\\\ &ER_m - R_f = \\text{market risk premium} \\\\ \\end{aligned} \n",
    "\n",
    "#### Review the instructions below to complete the requested tasks.\n",
    "\n",
    "#### TOTAL POINTS: 10\n",
    "---  \n"
   ]
  },
  {
   "cell_type": "code",
   "execution_count": 3,
   "metadata": {},
   "outputs": [],
   "source": [
    "# load modules\n",
    "import numpy as np\n",
    "import pandas as pd\n",
    "\n",
    "# risk-free Treasury rate\n",
    "R_f = 0.0175 / 252"
   ]
  },
  {
   "cell_type": "code",
   "execution_count": 4,
   "metadata": {},
   "outputs": [],
   "source": [
    "# read in the market data\n",
    "data = pd.read_csv('capm_market_data.csv')"
   ]
  },
  {
   "cell_type": "markdown",
   "metadata": {},
   "source": [
    "Look at some records  \n",
    "SPY is an ETF for the S&P 500 (the \"stock market\")  \n",
    "AAPL is Apple  \n",
    "The values are closing prices, adjusted for splits and dividends"
   ]
  },
  {
   "cell_type": "code",
   "execution_count": 5,
   "metadata": {},
   "outputs": [
    {
     "name": "stdout",
     "output_type": "stream",
     "text": [
      "         date  spy_adj_close  aapl_adj_close\n",
      "0  2020-01-02     321.555786      298.829956\n",
      "1  2020-01-03     319.120911      295.924713\n",
      "2  2020-01-06     320.338379      298.282715\n",
      "           date  spy_adj_close  aapl_adj_close\n",
      "132  2020-07-13     314.839996      381.910004\n",
      "133  2020-07-14     318.920013      388.230011\n",
      "134  2020-07-15     321.850006      390.899994\n"
     ]
    }
   ],
   "source": [
    "print(data.head(3))\n",
    "print(data.tail(3))"
   ]
  },
  {
   "cell_type": "markdown",
   "metadata": {},
   "source": [
    "Drop the date column"
   ]
  },
  {
   "cell_type": "code",
   "execution_count": 6,
   "metadata": {},
   "outputs": [
    {
     "name": "stdout",
     "output_type": "stream",
     "text": [
      "         date  spy_adj_close  aapl_adj_close\n",
      "0  2020-01-02     321.555786      298.829956\n",
      "1  2020-01-03     319.120911      295.924713\n",
      "2  2020-01-06     320.338379      298.282715\n",
      "3  2020-01-07     319.437653      296.879883\n",
      "4  2020-01-08     321.140106      301.655548\n",
      "   spy_adj_close  aapl_adj_close\n",
      "0     321.555786      298.829956\n",
      "1     319.120911      295.924713\n",
      "2     320.338379      298.282715\n",
      "3     319.437653      296.879883\n",
      "4     321.140106      301.655548\n"
     ]
    }
   ],
   "source": [
    "data_drop = data.copy().drop('date', axis = 1)\n",
    "print(data.head())\n",
    "print(data_drop.head())"
   ]
  },
  {
   "cell_type": "markdown",
   "metadata": {},
   "source": [
    "Compute daily returns (percentage changes in price) for SPY, AAPL  \n",
    "Be sure to drop the first row of NaN  \n",
    "Hint: pandas has functions to easily do this"
   ]
  },
  {
   "cell_type": "code",
   "execution_count": 7,
   "metadata": {},
   "outputs": [],
   "source": [
    "returns = data_drop.pct_change(axis = 0)\n",
    "returns.head()\n",
    "returns.dropna(inplace = True)"
   ]
  },
  {
   "cell_type": "markdown",
   "metadata": {},
   "source": [
    "#### (1 PT) Print the first 5 rows of returns"
   ]
  },
  {
   "cell_type": "code",
   "execution_count": 8,
   "metadata": {},
   "outputs": [
    {
     "name": "stdout",
     "output_type": "stream",
     "text": [
      "   spy_adj_close  aapl_adj_close\n",
      "1      -0.007572       -0.009722\n",
      "2       0.003815        0.007968\n",
      "3      -0.002812       -0.004703\n",
      "4       0.005330        0.016086\n",
      "5       0.006781        0.021241\n"
     ]
    }
   ],
   "source": [
    "print(returns.head())"
   ]
  },
  {
   "cell_type": "markdown",
   "metadata": {},
   "source": [
    "Save AAPL, SPY returns into separate numpy arrays  \n",
    "#### (1 PT) Print the first five values from the SPY numpy array, and the AAPL numpy array"
   ]
  },
  {
   "cell_type": "code",
   "execution_count": 9,
   "metadata": {},
   "outputs": [
    {
     "name": "stdout",
     "output_type": "stream",
     "text": [
      "aapl\n",
      "[298.82995605 295.92471313 298.28271484 296.87988281 301.6555481 ]\n",
      "\n",
      "spy\n",
      "[321.55578613 319.12091064 320.33837891 319.43765259 321.1401062 ]\n"
     ]
    }
   ],
   "source": [
    "aapl = data_drop['aapl_adj_close'].values\n",
    "spy = data_drop['spy_adj_close'].values\n",
    "print(\"aapl\")\n",
    "print(aapl[0:5])\n",
    "print(\"\\nspy\")\n",
    "print(spy[0:5])"
   ]
  },
  {
   "cell_type": "markdown",
   "metadata": {},
   "source": [
    "##### Compute the excess returns of AAPL, SPY by simply subtracting the constant *R_f* from the returns.\n",
    "##### Specifically, for the numpy array containing AAPL returns, subtract *R_f* from each of the returns. Repeat for SPY returns.\n",
    "\n",
    "NOTE:  \n",
    "AAPL - *R_f* = excess return of Apple stock  \n",
    "SPY - *R_f* = excess return of stock market\n"
   ]
  },
  {
   "cell_type": "code",
   "execution_count": 10,
   "metadata": {},
   "outputs": [
    {
     "name": "stdout",
     "output_type": "stream",
     "text": [
      "[298.82995605 295.92471313 298.28271484 296.87988281 301.6555481 ]\n"
     ]
    }
   ],
   "source": [
    "aapl_xs = aapl - R_f\n",
    "spy_xs = spy - R_f\n",
    "print(aapl[0:5])"
   ]
  },
  {
   "cell_type": "markdown",
   "metadata": {},
   "source": [
    "#### (1 PT) Print the LAST five excess returns from both AAPL, SPY numpy arrays\n"
   ]
  },
  {
   "cell_type": "code",
   "execution_count": 11,
   "metadata": {},
   "outputs": [
    {
     "name": "stdout",
     "output_type": "stream",
     "text": [
      "[383.00994032 383.67992323 381.90993422 388.22994154 390.89992445]\n",
      "[314.37993544 317.58992689 314.83992689 318.91994398 321.84993666]\n"
     ]
    }
   ],
   "source": [
    "print(aapl_xs[-5:])\n",
    "print(spy_xs[-5:])"
   ]
  },
  {
   "cell_type": "markdown",
   "metadata": {},
   "source": [
    "#### (1 PT) Make a scatterplot with SPY excess returns on x-axis, AAPL excess returns on y-axis####\n",
    "Matplotlib documentation: https://matplotlib.org/stable/api/_as_gen/matplotlib.pyplot.scatter.html"
   ]
  },
  {
   "cell_type": "code",
   "execution_count": 12,
   "metadata": {},
   "outputs": [
    {
     "data": {
      "text/plain": [
       "<matplotlib.collections.PathCollection at 0x254615242b0>"
      ]
     },
     "execution_count": 12,
     "metadata": {},
     "output_type": "execute_result"
    },
    {
     "data": {
      "image/png": "[encoded data removed]",
      "text/plain": [
       "<Figure size 432x288 with 1 Axes>"
      ]
     },
     "metadata": {
      "needs_background": "light"
     },
     "output_type": "display_data"
    }
   ],
   "source": [
    "import matplotlib.pyplot as plt\n",
    "plt.scatter(x =spy_xs, y = aapl_xs)\n",
    "#title, legend, axis labels, etc. "
   ]
  },
  {
   "cell_type": "markdown",
   "metadata": {},
   "source": [
    "#### (3 PTS) Use Linear Algebra (matrices) to Compute the Regression Coefficient Estimate, \\\\(\\hat\\beta_i\\\\)\n",
    "\n",
    "Hint 1: Here is the matrix formula where *x′* denotes transpose of *x*.\n",
    "\n",
    "\\begin{aligned} \\hat\\beta_i=(x′x)^{−1}x′y \\end{aligned} \n",
    "\n",
    "Hint 2: consider numpy functions for matrix multiplication, transpose, and inverse. Be sure to review what these operations do, and how they work, if you're a bit rusty."
   ]
  },
  {
   "cell_type": "code",
   "execution_count": 13,
   "metadata": {},
   "outputs": [
    {
     "name": "stdout",
     "output_type": "stream",
     "text": [
      "1.0299802942408152\n",
      "1.029980294240815\n"
     ]
    }
   ],
   "source": [
    "x = spy_xs.reshape(-1, 1)\n",
    "y = aapl_xs.reshape(-1,1)\n",
    "\n",
    "xtx = np.matmul(x.transpose(), x)\n",
    "xtx_inv = np.linalg.inv(xtx)\n",
    "xtx_inv_xt = np.matmul(xtx_inv, x.transpose())\n",
    "xtx_inv_xty = np.matmul(xtx_inv_xt, y)\n",
    "\n",
    "beta_hat = xtx_inv_xty[0][0]\n",
    "print(beta_hat)\n",
    "\n",
    "\n",
    "\n",
    "#beta_hat = np.matmul(np.matmul(np.linalg.inv(np.matmul(x.transpose(), x)), x.transpose()))"
   ]
  },
  {
   "cell_type": "markdown",
   "metadata": {},
   "source": [
    "You should have found that the beta estimate is greater than one.  \n",
    "This means that the risk of AAPL stock, given the data, and according to this particular (flawed) model,  \n",
    "is higher relative to the risk of the S&P 500.\n"
   ]
  },
  {
   "cell_type": "markdown",
   "metadata": {},
   "source": []
  },
  {
   "cell_type": "markdown",
   "metadata": {},
   "source": [
    "#### Measuring Beta Sensitivity to Dropping Observations (Jackknifing)"
   ]
  },
  {
   "cell_type": "markdown",
   "metadata": {},
   "source": [
    "Let's understand how sensitive the beta is to each data point.   \n",
    "We want to drop each data point (one at a time), compute \\\\(\\hat\\beta_i\\\\) using our formula from above, and save each measurement.\n",
    "\n",
    "#### (3 PTS) Write a function called `beta_sensitivity()` with these specs:\n",
    "\n",
    "- take numpy arrays x and y as inputs\n",
    "- output a list of tuples. each tuple contains (observation row dropped, beta estimate)\n",
    "\n",
    "Hint: **np.delete(x, i).reshape(-1,1)** will delete observation i from array x, and make it a column vector"
   ]
  },
  {
   "cell_type": "code",
   "execution_count": 37,
   "metadata": {},
   "outputs": [
    {
     "name": "stdout",
     "output_type": "stream",
     "text": [
      "[(321.55571668836757, 1.030847730172396), (319.12084120008655, 1.0308516176393123), (320.3383094618056, 1.0308255236222597), (319.4375831434466, 1.0308357542837525), (321.14003675672757, 1.030759501843587)]\n"
     ]
    }
   ],
   "source": [
    "def beta_sensitivity(x, y):\n",
    "    '''\n",
    "    PURPOSE\n",
    "    - take input predictors, response and determine least square coefficients B_hat after iteratively removing data points\n",
    "    \n",
    "    INPUT\n",
    "    - x = array of predictors\n",
    "    - y = array of responses\n",
    "    \n",
    "    OUTPUT\n",
    "    - out = list of tuples of observation row dropped, beta estimate\n",
    "    \n",
    "    '''\n",
    "    out = list()\n",
    "    sz = x.shape[0]\n",
    "    for ix in range(sz):\n",
    "        xx = np.delete(x, ix).reshape(-1,1)\n",
    "        yy = np.delete(y, ix).reshape(-1,1)\n",
    "        \n",
    "\n",
    "        bi = np.matmul(np.matmul(np.linalg.inv(np.matmul(xx.transpose(), xx)), xx.transpose()), yy)[0][0]   \n",
    "        \n",
    "        out.append((x[ix][0], bi))\n",
    "        \n",
    "    \n",
    "    return out"
   ]
  },
  {
   "cell_type": "markdown",
   "metadata": {},
   "source": [
    "#### Call `beta_sensitivity()` and print the first five tuples of output."
   ]
  },
  {
   "cell_type": "code",
   "execution_count": 38,
   "metadata": {},
   "outputs": [
    {
     "data": {
      "text/plain": [
       "[(321.55571668836757, 1.030847730172396),\n",
       " (319.12084120008655, 1.0308516176393123),\n",
       " (320.3383094618056, 1.0308255236222597),\n",
       " (319.4375831434466, 1.0308357542837525),\n",
       " (321.14003675672757, 1.030759501843587)]"
      ]
     },
     "execution_count": 38,
     "metadata": {},
     "output_type": "execute_result"
    }
   ],
   "source": [
    "betas = beta_sensitivity(x, y)\n",
    "betas[:5]"
   ]
  }
 ],
 "metadata": {
  "kernelspec": {
   "display_name": "Python 3",
   "language": "python",
   "name": "python3"
  },
  "language_info": {
   "codemirror_mode": {
    "name": "ipython",
    "version": 3
   },
   "file_extension": ".py",
   "mimetype": "text/x-python",
   "name": "python",
   "nbconvert_exporter": "python",
   "pygments_lexer": "ipython3",
   "version": "3.8.5"
  }
 },
 "nbformat": 4,
 "nbformat_minor": 4
}
